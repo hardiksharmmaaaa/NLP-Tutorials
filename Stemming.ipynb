{
 "cells": [
  {
   "cell_type": "markdown",
   "id": "766e1c91-0c9f-4ac3-a16f-2bfe379a47dc",
   "metadata": {},
   "source": [
    "## Stemming"
   ]
  },
  {
   "cell_type": "markdown",
   "id": "d9075c87-1585-436b-b1db-ca23fc91eb92",
   "metadata": {},
   "source": [
    "### Technique - PorterStemmer"
   ]
  },
  {
   "cell_type": "code",
   "execution_count": 4,
   "id": "7c387cb1-0ced-4e83-a9b5-d21ebba1a7da",
   "metadata": {},
   "outputs": [],
   "source": [
    "Words=[\"eating\",\"eaten\",\"eats\",\"Writing\",\"Writes\",\"Written\",\"Programming\",\"Programs\"]"
   ]
  },
  {
   "cell_type": "code",
   "execution_count": 8,
   "id": "01e6f3a1-7999-4120-bbb3-9fb7bd3536aa",
   "metadata": {},
   "outputs": [],
   "source": [
    "from nltk.stem import PorterStemmer"
   ]
  },
  {
   "cell_type": "code",
   "execution_count": 9,
   "id": "05f19b90-e47d-4189-8d6f-70ba425e2841",
   "metadata": {},
   "outputs": [],
   "source": [
    "stemming=PorterStemmer()"
   ]
  },
  {
   "cell_type": "code",
   "execution_count": 10,
   "id": "bab8f20b-a2f8-4aa0-af9f-47843d6818c8",
   "metadata": {},
   "outputs": [
    {
     "name": "stdout",
     "output_type": "stream",
     "text": [
      "eating----> eat\n",
      "eaten----> eaten\n",
      "eats----> eat\n",
      "Writing----> write\n",
      "Writes----> write\n",
      "Written----> written\n",
      "Programming----> program\n",
      "Programs----> program\n"
     ]
    }
   ],
   "source": [
    "for i in Words:\n",
    "    print(i+\"---->\",stemming.stem(i))"
   ]
  },
  {
   "cell_type": "code",
   "execution_count": 11,
   "id": "b7460ccc-69b8-4dfe-a8e0-f9811b874065",
   "metadata": {},
   "outputs": [
    {
     "data": {
      "text/plain": [
       "'congratul'"
      ]
     },
     "execution_count": 11,
     "metadata": {},
     "output_type": "execute_result"
    }
   ],
   "source": [
    " stemming.stem(\"Congratulations\")"
   ]
  },
  {
   "cell_type": "markdown",
   "id": "581acf36-28ef-4a5e-be01-deef05ec3775",
   "metadata": {},
   "source": [
    "### Technique - RegexpStemmer"
   ]
  },
  {
   "cell_type": "code",
   "execution_count": 12,
   "id": "9d2136df-def1-482c-b59a-97efdec91c9c",
   "metadata": {},
   "outputs": [],
   "source": [
    "from nltk.stem import RegexpStemmer"
   ]
  },
  {
   "cell_type": "code",
   "execution_count": 13,
   "id": "1dc9c30a-7883-4834-ae4e-1d485550012d",
   "metadata": {},
   "outputs": [],
   "source": [
    "reg_stemmer=RegexpStemmer(\"ing$|s$|e$|en$\",min=4)\n",
    "\n",
    "# \"ing$|s$|e$|en$\" This is a regular expression which we assigned \n",
    "\n",
    "# $ means that ing$ ---> Last m ing remove\n",
    "                 # s$ -------> Last m s remove krdo "
   ]
  },
  {
   "cell_type": "code",
   "execution_count": 14,
   "id": "e9def60b-5abe-496b-8ac2-2a36b9f36bd2",
   "metadata": {},
   "outputs": [
    {
     "data": {
      "text/plain": [
       "'Congratulation'"
      ]
     },
     "execution_count": 14,
     "metadata": {},
     "output_type": "execute_result"
    }
   ],
   "source": [
    "reg_stemmer.stem(\"Congratulations\")"
   ]
  },
  {
   "cell_type": "markdown",
   "id": "dd9168bf-99c0-47cc-80db-019e40e116b1",
   "metadata": {},
   "source": [
    "### Technique - Snowball Stemmer"
   ]
  },
  {
   "cell_type": "code",
   "execution_count": 2,
   "id": "798af2bd-8ea0-43c2-ac90-4f3b3cd27be2",
   "metadata": {},
   "outputs": [],
   "source": [
    "from nltk.stem import SnowballStemmer"
   ]
  },
  {
   "cell_type": "code",
   "execution_count": 5,
   "id": "c3cc2838-8b02-43d7-9edb-7cec10b5a752",
   "metadata": {},
   "outputs": [
    {
     "name": "stdout",
     "output_type": "stream",
     "text": [
      "eating ------> eat\n",
      "eaten ------> eaten\n",
      "eats ------> eat\n",
      "Writing ------> write\n",
      "Writes ------> write\n",
      "Written ------> written\n",
      "Programming ------> program\n",
      "Programs ------> program\n"
     ]
    }
   ],
   "source": [
    "snowball_stemmer=SnowballStemmer('english')\n",
    "for i in Words:\n",
    "    print(i,\"------>\",snowball_stemmer.stem(i))"
   ]
  },
  {
   "cell_type": "code",
   "execution_count": 6,
   "id": "74772d7a-796f-4511-8041-4f0236634186",
   "metadata": {},
   "outputs": [],
   "source": [
    "# porterstemmer VS Snowball Stemmer "
   ]
  },
  {
   "cell_type": "code",
   "execution_count": 15,
   "id": "752e368e-b74a-4576-a178-e2edb6a622f4",
   "metadata": {},
   "outputs": [
    {
     "data": {
      "text/plain": [
       "('fairli', 'sportingli')"
      ]
     },
     "execution_count": 15,
     "metadata": {},
     "output_type": "execute_result"
    }
   ],
   "source": [
    "stemming.stem(\"Fairly\"),stemming.stem(\"Sportingly\")"
   ]
  },
  {
   "cell_type": "code",
   "execution_count": 16,
   "id": "caf453e5-942f-4789-8a3c-0064959ba74f",
   "metadata": {},
   "outputs": [
    {
     "data": {
      "text/plain": [
       "('fair', 'sport')"
      ]
     },
     "execution_count": 16,
     "metadata": {},
     "output_type": "execute_result"
    }
   ],
   "source": [
    "snowball_stemmer.stem(\"Fairly\"),snowball_stemmer.stem(\"Sportingly\") # better words so Deff Snowball stemmer >>> Porterstemmer "
   ]
  }
 ],
 "metadata": {
  "kernelspec": {
   "display_name": "Python 3 (ipykernel)",
   "language": "python",
   "name": "python3"
  },
  "language_info": {
   "codemirror_mode": {
    "name": "ipython",
    "version": 3
   },
   "file_extension": ".py",
   "mimetype": "text/x-python",
   "name": "python",
   "nbconvert_exporter": "python",
   "pygments_lexer": "ipython3",
   "version": "3.11.7"
  }
 },
 "nbformat": 4,
 "nbformat_minor": 5
}
