{
 "cells": [
  {
   "cell_type": "code",
   "execution_count": 6,
   "id": "12ddd2ab-1107-4d69-8519-b38b78039f89",
   "metadata": {},
   "outputs": [
    {
     "name": "stderr",
     "output_type": "stream",
     "text": [
      "[nltk_data] Downloading package punkt to\n",
      "[nltk_data]     C:\\Users\\hardi\\AppData\\Roaming\\nltk_data...\n",
      "[nltk_data]   Unzipping tokenizers\\punkt.zip.\n"
     ]
    },
    {
     "data": {
      "text/plain": [
       "True"
      ]
     },
     "execution_count": 6,
     "metadata": {},
     "output_type": "execute_result"
    }
   ],
   "source": [
    "import nltk\n",
    "nltk.download('punkt')"
   ]
  },
  {
   "cell_type": "code",
   "execution_count": 7,
   "id": "08addbc7-5ff6-44fd-ad81-903aeae1083b",
   "metadata": {},
   "outputs": [],
   "source": [
    "corpus='''Hello Welcome to Hardik's Journey of Learning NLP.\n",
    "Please do support in my journey so that i can become a expert in NLP\n",
    "'''"
   ]
  },
  {
   "cell_type": "code",
   "execution_count": 8,
   "id": "459abc02-5356-4687-8017-3121af7f575a",
   "metadata": {},
   "outputs": [
    {
     "data": {
      "text/plain": [
       "\"Hello Welcome to Hardik's Journey of Learning NLP.\\nPlease do support in my journey so that i can become a expert in NLP\\n\""
      ]
     },
     "execution_count": 8,
     "metadata": {},
     "output_type": "execute_result"
    }
   ],
   "source": [
    "corpus"
   ]
  },
  {
   "cell_type": "code",
   "execution_count": 9,
   "id": "770231f1-ac09-4387-852b-31a992a209aa",
   "metadata": {},
   "outputs": [],
   "source": [
    "# Tokenization\n",
    "\n",
    "# Sentence -> Paragraph"
   ]
  },
  {
   "cell_type": "code",
   "execution_count": 10,
   "id": "e1ffb922-ef99-4aea-b654-ec127dcda2ba",
   "metadata": {},
   "outputs": [],
   "source": [
    "from nltk.tokenize import sent_tokenize# sent_tokenize converts a paragraph into sentences"
   ]
  },
  {
   "cell_type": "code",
   "execution_count": 12,
   "id": "ffe95f76-8208-4601-a818-029917f1b04b",
   "metadata": {},
   "outputs": [],
   "source": [
    "documents=sent_tokenize(corpus) #list of sentences "
   ]
  },
  {
   "cell_type": "code",
   "execution_count": 15,
   "id": "40e61735-41ce-4e51-aac0-abd1eb91249c",
   "metadata": {},
   "outputs": [
    {
     "data": {
      "text/plain": [
       "list"
      ]
     },
     "execution_count": 15,
     "metadata": {},
     "output_type": "execute_result"
    }
   ],
   "source": [
    "type(documents)"
   ]
  },
  {
   "cell_type": "code",
   "execution_count": 17,
   "id": "c1cb6209-8e98-4f9d-8d96-9ecc6658aad2",
   "metadata": {},
   "outputs": [
    {
     "name": "stdout",
     "output_type": "stream",
     "text": [
      "Hello Welcome to Hardik's Journey of Learning NLP.\n",
      "Please do support in my journey so that i can become a expert in NLP\n"
     ]
    }
   ],
   "source": [
    "for sentence in documents:\n",
    "    print(sentence)"
   ]
  },
  {
   "cell_type": "code",
   "execution_count": 18,
   "id": "f0ad3eb2-3a77-46d8-a203-75110b0fecfe",
   "metadata": {},
   "outputs": [],
   "source": [
    "# convert a paragraph into words\n",
    "# convert a sentence into words"
   ]
  },
  {
   "cell_type": "code",
   "execution_count": 19,
   "id": "d5af3edf-e2e1-43b5-9f1a-ea1748b2cb12",
   "metadata": {},
   "outputs": [],
   "source": [
    "from nltk.tokenize import word_tokenize"
   ]
  },
  {
   "cell_type": "code",
   "execution_count": 20,
   "id": "e554b963-61ca-4836-8965-0e7544a6f538",
   "metadata": {},
   "outputs": [
    {
     "data": {
      "text/plain": [
       "['Hello',\n",
       " 'Welcome',\n",
       " 'to',\n",
       " 'Hardik',\n",
       " \"'s\",\n",
       " 'Journey',\n",
       " 'of',\n",
       " 'Learning',\n",
       " 'NLP',\n",
       " '.',\n",
       " 'Please',\n",
       " 'do',\n",
       " 'support',\n",
       " 'in',\n",
       " 'my',\n",
       " 'journey',\n",
       " 'so',\n",
       " 'that',\n",
       " 'i',\n",
       " 'can',\n",
       " 'become',\n",
       " 'a',\n",
       " 'expert',\n",
       " 'in',\n",
       " 'NLP']"
      ]
     },
     "execution_count": 20,
     "metadata": {},
     "output_type": "execute_result"
    }
   ],
   "source": [
    "word_tokenize(corpus)"
   ]
  },
  {
   "cell_type": "code",
   "execution_count": 22,
   "id": "bb541af3-e05e-4419-bde6-d3b501e4d23e",
   "metadata": {},
   "outputs": [
    {
     "name": "stdout",
     "output_type": "stream",
     "text": [
      "['Hello', 'Welcome', 'to', 'Hardik', \"'s\", 'Journey', 'of', 'Learning', 'NLP', '.']\n",
      "['Please', 'do', 'support', 'in', 'my', 'journey', 'so', 'that', 'i', 'can', 'become', 'a', 'expert', 'in', 'NLP']\n"
     ]
    }
   ],
   "source": [
    "for sentence in documents:\n",
    "    print(word_tokenize(sentence))"
   ]
  },
  {
   "cell_type": "code",
   "execution_count": 27,
   "id": "aa237c34-50cf-43b4-b4b4-c28536b4d2d3",
   "metadata": {},
   "outputs": [],
   "source": [
    "from nltk.tokenize import TreebankWordTokenizer"
   ]
  },
  {
   "cell_type": "code",
   "execution_count": 29,
   "id": "d6042fee-ee52-405a-9791-fb33af834c76",
   "metadata": {},
   "outputs": [],
   "source": [
    "tokenizer=TreebankWordTokenizer()"
   ]
  },
  {
   "cell_type": "code",
   "execution_count": 30,
   "id": "92e2d44a-5e11-4fcd-ac91-9a69774706b1",
   "metadata": {},
   "outputs": [
    {
     "data": {
      "text/plain": [
       "['Hello',\n",
       " 'Welcome',\n",
       " 'to',\n",
       " 'Hardik',\n",
       " \"'s\",\n",
       " 'Journey',\n",
       " 'of',\n",
       " 'Learning',\n",
       " 'NLP.',\n",
       " 'Please',\n",
       " 'do',\n",
       " 'support',\n",
       " 'in',\n",
       " 'my',\n",
       " 'journey',\n",
       " 'so',\n",
       " 'that',\n",
       " 'i',\n",
       " 'can',\n",
       " 'become',\n",
       " 'a',\n",
       " 'expert',\n",
       " 'in',\n",
       " 'NLP']"
      ]
     },
     "execution_count": 30,
     "metadata": {},
     "output_type": "execute_result"
    }
   ],
   "source": [
    "tokenizer.tokenize(corpus) # here full stop is not treated as a different word in the mid but at the last full stop it is considered as a different word "
   ]
  },
  {
   "cell_type": "code",
   "execution_count": null,
   "id": "3e8252a7-507b-4fc5-a1c1-988337e9d897",
   "metadata": {},
   "outputs": [],
   "source": []
  }
 ],
 "metadata": {
  "kernelspec": {
   "display_name": "Python 3 (ipykernel)",
   "language": "python",
   "name": "python3"
  },
  "language_info": {
   "codemirror_mode": {
    "name": "ipython",
    "version": 3
   },
   "file_extension": ".py",
   "mimetype": "text/x-python",
   "name": "python",
   "nbconvert_exporter": "python",
   "pygments_lexer": "ipython3",
   "version": "3.11.7"
  }
 },
 "nbformat": 4,
 "nbformat_minor": 5
}
